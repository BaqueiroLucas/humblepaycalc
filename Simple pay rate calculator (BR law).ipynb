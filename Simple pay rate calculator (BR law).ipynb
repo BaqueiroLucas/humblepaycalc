{
 "cells": [
  {
   "cell_type": "code",
   "execution_count": 1,
   "id": "informative-label",
   "metadata": {},
   "outputs": [
    {
     "name": "stdout",
     "output_type": "stream",
     "text": [
      "Enter hours worked on common weekdays: 42\n",
      "Enter hours worked on sundays and holidays: 6\n",
      "Enter on call worked hours: 24\n",
      "Enter rate: 6.76\n",
      "Pay for week:  425.87999999999994\n"
     ]
    }
   ],
   "source": [
    "#This is a simple weekly pay rate calculator, and my very first program made on Python\n",
    "#aside, of course, of classical 'Hello World' print statement. This is from\n",
    "#Prof. Dr. Chuck Severance \"Python 4 Everybody\" course, but with slight modifications:\n",
    "#I added some Brazilian labour law conventions, to push more limits on my beginner's ability.\n",
    "\n",
    "hours = input('Enter hours worked on common weekdays: ')\n",
    "sphours = input('Enter hours worked on sundays and holidays: ')\n",
    "clhours = input('Enter on call worked hours: ')\n",
    "rate = input('Enter rate: ')\n",
    "hr1 = float(hours)\n",
    "hr2 = float(sphours)\n",
    "hr3 = float(clhours)\n",
    "sal = float(rate)\n",
    "#paying 50% over the hourly rate for hours worked above 40 hours, 100% over sundays and holidays, and 1/3 for on call hours\n",
    "if hr1 > 40:\n",
    "    pay = 40 * sal + ((hr1 - 40) * 1.5 * sal) + (hr2 * 2.0 * sal) + ((hr3 * 1/3) * sal)\n",
    "else:\n",
    "    pay = hr1 * sal + (hr2 * 2.0 * sal) + ((hr3 * 1/3) * sal)\n",
    "print('Pay for week: ', pay)"
   ]
  },
  {
   "cell_type": "code",
   "execution_count": null,
   "id": "innovative-blame",
   "metadata": {},
   "outputs": [],
   "source": []
  }
 ],
 "metadata": {
  "kernelspec": {
   "display_name": "Python 3",
   "language": "python",
   "name": "python3"
  },
  "language_info": {
   "codemirror_mode": {
    "name": "ipython",
    "version": 3
   },
   "file_extension": ".py",
   "mimetype": "text/x-python",
   "name": "python",
   "nbconvert_exporter": "python",
   "pygments_lexer": "ipython3",
   "version": "3.6.13"
  }
 },
 "nbformat": 4,
 "nbformat_minor": 5
}
